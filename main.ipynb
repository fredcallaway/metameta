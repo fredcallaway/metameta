{
 "cells": [
  {
   "cell_type": "code",
   "execution_count": 2,
   "metadata": {},
   "outputs": [],
   "source": [
    "%matplotlib inline\n",
    "# %load_ext autoreload\n",
    "# %autoreload 2\n",
    "\n",
    "import matplotlib.pyplot as plt\n",
    "import numpy as np\n",
    "import pandas as pd\n",
    "import seaborn as sns\n",
    "sns.set_context('notebook', font_scale=1.3)\n",
    "sns.set_style('white')"
   ]
  },
  {
   "cell_type": "code",
   "execution_count": 3,
   "metadata": {},
   "outputs": [],
   "source": [
    "from mouselab import *\n",
    "from distributions import *\n",
    "from bayes_q import *\n",
    "from gymrats.core import Agent\n",
    "from exact import solve\n",
    "from skopt import gp_minimize\n",
    "from skopt.space import Real,Space\n",
    "\n",
    "from joblib import Parallel, delayed"
   ]
  },
  {
   "cell_type": "code",
   "execution_count": null,
   "metadata": {},
   "outputs": [],
   "source": [
    "cost_range = [0,0.3]\n",
    "branch_range = [2,4]\n",
    "height_range = [2,4]\n",
    "reward_alpha = 1"
   ]
  },
  {
   "cell_type": "code",
   "execution_count": 11,
   "metadata": {},
   "outputs": [],
   "source": [
    "def get_optimal_return(env):\n",
    "    q, v, pi, info = solve(env)\n",
    "    return v(env.init)\n",
    "\n",
    "def sample_env():\n",
    "    cost = np.random.uniform(*cost_range)\n",
    "    branch = np.random.randint(*branch_range)\n",
    "    height = np.random.randint(*height_range)\n",
    "    R = Categorical([-1, 0, 1],np.random.dirichlet(np.ones(3)*reward_alpha))\n",
    "    return MouselabEnv(branch, height, reward=R, cost=cost)"
   ]
  },
  {
   "cell_type": "code",
   "execution_count": null,
   "metadata": {},
   "outputs": [],
   "source": [
    "def job(env):\n",
    "    x = 0\n",
    "    for i in range(100):\n",
    "        x += create_training_df(env, make_prior_params(x_meta), 20).return_.mean()\n",
    "    return x\n",
    "\n",
    "envs = [sample_env() for i in range(500)]\n",
    "results = Parallel(-1, backend='multiprocessing')(delayed(job)(env) for env in envs)"
   ]
  },
  {
   "cell_type": "code",
   "execution_count": 93,
   "metadata": {},
   "outputs": [
    {
     "data": {
      "text/plain": [
       "<matplotlib.collections.PathCollection at 0x7f351f0ee950>"
      ]
     },
     "execution_count": 93,
     "metadata": {},
     "output_type": "execute_result"
    },
    {
     "data": {
      "image/png": "[encoded data removed]",
      "text/plain": [
       "<Figure size 432x288 with 1 Axes>"
      ]
     },
     "metadata": {},
     "output_type": "display_data"
    }
   ],
   "source": [
    "e = envs[0]\n",
    "branch = [e.branch[0] for e in envs]\n",
    "cost = [e.cost for e in envs]\n",
    "plt.scatter(cost, results)"
   ]
  },
  {
   "cell_type": "code",
   "execution_count": 17,
   "metadata": {},
   "outputs": [],
   "source": [
    "import random\n",
    "\n",
    "def create_training_df(env, prior_params, n_episode):\n",
    "    policy = BayesianQLearner(5, prior_params=prior_params)\n",
    "    agent = Agent(env, policy)\n",
    "    return pd.DataFrame(agent.run_many(n_episode, pbar=False))\n",
    "\n",
    "def make_prior_params(x):\n",
    "    if len(x) == 5:\n",
    "        return np.r_[x[:5], np.ones(5) * 1e10, 1, 1]\n",
    "    else:\n",
    "        assert len(x) == 12\n",
    "        return x\n",
    "\n",
    "def training_return(x, seed=None, n_episode=20):\n",
    "    if seed is not None:\n",
    "        np.random.seed(seed)\n",
    "        random.seed(seed)\n",
    "    df = create_training_df(sample_env(), make_prior_params(x), n_episode)\n",
    "    return np.mean(df.return_.values)\n",
    "\n",
    "# def global_training_objective_single(x):\n",
    "#     prior_params = np.r_[x[:5], np.ones(5) * 1e10, x[5:]]\n",
    "#     df = create_training_df(sample_env(), prior_params, n_episode)\n",
    "#     return np.mean(df.return_.values)\n",
    "\n",
    "def make_objective(single, N, parallel=True, **kwargs):\n",
    "    def objective(x):\n",
    "        if parallel:\n",
    "            jobs = (delayed(single)(x, np.random.randint(100000000), **kwargs) for _ in range(N))\n",
    "            returns = Parallel(-1, backend='multiprocessing')(jobs)\n",
    "        else:\n",
    "            returns = [single(x, **kwargs) for _ in range(N)]\n",
    "        y = np.mean(returns)\n",
    "        print(objective.counter, np.round(y, 3), np.round(x,2))\n",
    "        objective.counter += 1\n",
    "        return y\n",
    "    objective.counter = 0\n",
    "    return objective"
   ]
  },
  {
   "cell_type": "code",
   "execution_count": 103,
   "metadata": {},
   "outputs": [
    {
     "data": {
      "text/plain": [
       "array([0., 0., 0., 0., 1.])"
      ]
     },
     "execution_count": 103,
     "metadata": {},
     "output_type": "execute_result"
    }
   ],
   "source": []
  },
  {
   "cell_type": "code",
   "execution_count": 100,
   "metadata": {},
   "outputs": [],
   "source": [
    "    policy = BayesianQLearner(5, prior_params=None)"
   ]
  },
  {
   "cell_type": "code",
   "execution_count": 13,
   "metadata": {},
   "outputs": [
    {
     "name": "stdout",
     "output_type": "stream",
     "text": [
      "0 0.277 [1. 1. 1. 1. 1.]\n",
      "CPU times: user 261 ms, sys: 553 ms, total: 814 ms\n",
      "Wall time: 3.64 s\n"
     ]
    },
    {
     "data": {
      "text/plain": [
       "0.2773977814806987"
      ]
     },
     "execution_count": 13,
     "metadata": {},
     "output_type": "execute_result"
    }
   ],
   "source": [
    "%time make_objective(training_return, N=100, n_episode=50)(np.ones(5))"
   ]
  },
  {
   "cell_type": "code",
   "execution_count": 18,
   "metadata": {},
   "outputs": [],
   "source": [
    "def train_agent(kind, n_iter=200, n_env=100, n_episode=25, **kwargs):\n",
    "    dimensions = [Real(1, 20), Real(0,1), Real(0,1), Real(0,1), Real(0,2)]\n",
    "    if kind == 'meta':\n",
    "        dimensions.extend([Real(0.1,100)]*5 + [Real(0.1,20)] + [Real(0.1,10)])\n",
    "    print(len(dimensions))\n",
    "        \n",
    "    objective = make_objective(training_return, N=n_env, n_episode=n_episode)\n",
    "    return gp_minimize(lambda x: - objective(x),\n",
    "                       dimensions=dimensions, n_calls=n_iter, **kwargs)"
   ]
  },
  {
   "cell_type": "code",
   "execution_count": 19,
   "metadata": {},
   "outputs": [
    {
     "name": "stdout",
     "output_type": "stream",
     "text": [
      "12\n",
      "0 0.536 [ 6.41  0.59  0.48  0.35  0.61 49.95 25.02 31.29 99.23 66.28  5.77  4.47]\n",
      "1 0.166 [13.2   0.26  0.88  0.12  1.34 41.37 35.58 89.07 18.73 45.71 10.72  2.14]\n",
      "2 0.313 [16.    0.59  0.95  0.12  0.72 53.01 60.17 91.84 26.07 39.88  2.68  7.29]\n",
      "3 0.476 [ 2.25  0.31  0.32  0.57  0.27 70.52 47.21 31.88 96.26 65.15  3.81  8.06]\n",
      "4 0.351 [ 5.55  0.29  0.37  0.53  1.4  42.7  33.4  50.4  70.85 85.43  1.22  2.92]\n",
      "5 0.181 [17.72  0.1   0.28  0.76  1.68 74.91 48.12 22.73  4.78 39.76  9.02  8.61]\n",
      "6 0.295 [17.74  0.11  0.16  0.93  0.8  22.56 62.7  97.08 63.64 14.99  9.83  2.16]\n",
      "7 0.314 [12.99  0.92  0.71  0.48  1.46 59.58 56.03 93.23 83.8   6.37  9.84  1.77]\n",
      "8 0.312 [ 9.31  0.21  0.42  0.51  0.13  0.8  85.79 87.57 41.68 30.55 16.82  5.36]\n",
      "9 0.409 [ 6.38  0.33  0.53  0.29  0.89 86.94 78.88 72.95 15.37 19.21  3.67  8.82]\n",
      "10 0.52 [  1.     0.6    0.32   0.82   0.    57.2   87.15  88.26 100.    91.12   6.15   5.27]\n",
      "11 0.434 [1.620e+00 9.000e-01 0.000e+00 1.100e-01 2.000e-02 8.138e+01 4.410e+01 2.690e+01 5.759e+01 6.788e+01 5.440e+00 3.500e-01]\n",
      "12 0.63 [  1.22   0.25   0.18   0.62   1.39   6.13  59.35  56.83 100.    77.43   5.64   2.4 ]\n",
      "13 0.461 [  1.     0.78   0.94   0.6    2.     0.1  100.   100.   100.    44.88   4.29   8.  ]\n",
      "14 0.19 [  1.11   0.     0.17   0.14   1.8    0.1   44.51  12.1  100.    42.18   5.6    0.1 ]\n",
      "15 0.425 [  1.52   0.43   0.59   0.1    0.77  98.11  58.78  73.52 100.    78.93  20.     0.8 ]\n",
      "16 0.392 [  3.43   0.3    0.2    0.61   1.37   0.1   54.44  66.56 100.    78.48   6.31   4.57]\n",
      "17 0.225 [ 1.44  0.71  0.26  0.65  0.11  4.61 94.66 23.57 77.2  83.89  7.76  8.43]\n",
      "18 0.682 [ 1.    0.65  0.98  0.65  1.21  0.93 59.99 98.46 99.96 75.36 13.23  4.45]\n",
      "19 0.211 [  1.     0.1    1.     0.77   0.91  27.08  33.38  10.45 100.    68.04  14.72   5.9 ]\n",
      "20 0.487 [1.000e+00 8.500e-01 3.000e-02 6.400e-01 8.400e-01 9.511e+01 5.508e+01 1.000e+02 2.578e+01 5.048e+01 1.661e+01 9.260e+00]\n",
      "21 0.416 [ 1.    0.16  0.78  0.63  1.95  0.1  45.58 92.29 48.67 35.62  5.91  2.55]\n",
      "22 0.452 [  1.     0.41   0.45   1.     1.21   8.38  83.53 100.    85.77  86.4    7.06   0.18]\n",
      "23 0.573 [ 1.    0.5   0.34  0.2   0.7  19.67 99.42 48.83  9.34 38.18  7.5   2.09]\n",
      "24 0.099 [  1.     1.     1.     1.     2.   100.    17.06  50.6  100.   100.    12.92   0.1 ]\n",
      "25 0.315 [ 1.    1.    0.63  0.39  0.38 16.46 33.58 95.91 22.18 75.3  16.58  9.17]\n",
      "26 0.238 [ 1.    0.34  0.87  0.32  1.64  9.15 62.07 97.97 54.09 74.74  6.44  8.41]\n",
      "27 0.687 [ 1.    0.39  0.42  0.51  1.14  6.1  66.56 76.62 42.16 59.71  4.12  3.61]\n",
      "28 0.313 [1.000e+00 9.800e-01 8.100e-01 2.000e-02 1.490e+00 1.000e-01 6.275e+01 2.764e+01 7.711e+01 9.560e+01 4.120e+00 3.740e+00]\n",
      "29 0.649 [ 1.02  0.42  0.89  0.57  1.2   3.77 66.26 42.01 47.76 67.88  6.44  2.19]\n",
      "30 0.671 [  1.01   0.89   0.17   0.54   1.16   4.86  65.92 100.    28.56  73.61   7.63   8.59]\n",
      "31 0.422 [ 1.    0.77  0.78  0.5   1.1   7.51 65.35 58.78 98.24 33.67  0.71  1.31]\n",
      "32 0.434 [  1.01   0.32   0.4    0.54   1.15   5.22  77.66 100.    22.78  63.2    8.73   9.02]\n",
      "33 0.437 [1.000e+00 8.300e-01 4.000e-02 5.200e-01 1.120e+00 6.440e+00 6.441e+01 4.682e+01 1.889e+01 6.579e+01 2.690e+00 4.020e+00]\n",
      "34 0.505 [ 1.01  0.38  0.54  0.54  1.16  5.41 65.98 83.58 22.55 68.92  5.96  8.15]\n",
      "35 0.391 [1.080e+00 2.700e-01 4.000e-02 6.500e-01 1.280e+00 9.000e-01 5.764e+01 8.321e+01 6.045e+01 1.630e+01 4.980e+00 2.410e+00]\n",
      "36 0.187 [19.64  0.94  0.38  0.17  1.96  4.99 66.16 18.41 34.44 89.04  7.4   1.35]\n",
      "37 0.612 [  1.     0.33   0.98   0.66   1.02  63.86  67.49  52.83  98.09 100.    11.3    5.43]\n",
      "38 0.674 [  3.28   0.64   0.61   0.63   1.52  24.51  67.72  93.83   6.78 100.     8.35   8.97]\n",
      "39 0.632 [  1.     0.76   0.91   0.66   2.    90.55  70.06  15.17  29.53 100.     8.28   3.18]\n",
      "40 0.346 [1.000e+00 6.000e-02 5.000e-02 6.400e-01 1.270e+00 5.462e+01 6.730e+01 8.235e+01 5.316e+01 1.000e+02 1.556e+01 9.380e+00]\n",
      "41 0.442 [ 2.48  0.62  0.59  0.64  1.34 19.33 67.22 21.1  12.38 98.83  0.88  5.11]\n",
      "42 0.488 [ 1.01  0.79  0.94  0.56  1.25 46.63 66.02 77.82 32.77 85.41  7.31  4.09]\n",
      "43 0.366 [  8.76   0.96   0.98   0.67   0.75   9.95  66.23  24.88  72.01 100.    11.37   2.79]\n",
      "44 0.428 [ 1.01  0.31  0.58  0.53  1.09 17.79 67.25 73.53 43.61 63.15  5.39  2.61]\n",
      "45 0.327 [ 1.93  1.    0.46  0.21  0.   38.52  0.1  96.18 64.31 84.94  0.1   4.79]\n",
      "46 0.356 [  1.     0.71   0.     0.45   1.92   0.1   63.01 100.     0.1   80.42  11.23   9.32]\n",
      "47 0.32 [  1.     0.13   0.     0.     0.    61.3  100.    12.93  84.06  88.97   9.75   5.73]\n",
      "48 0.284 [  1.     0.64   0.5    0.76   2.    68.44  71.65  52.78  26.55 100.     7.35   6.91]\n",
      "49 0.365 [ 1.01  0.89  0.97  0.52  1.68 46.67 94.03 48.92 59.28 98.58  0.8   5.52]\n",
      "50 0.44 [ 1.    0.34  1.    0.6   2.   17.49 67.77 94.21 90.21 52.16 15.33  6.79]\n",
      "51 0.731 [  1.     0.47   1.     1.     0.    33.33 100.    14.96   4.74  98.1    5.39   6.71]\n",
      "52 0.276 [ 14.     0.98   1.     1.     0.    24.51 100.    83.35  71.13  69.39   0.68   9.  ]\n",
      "53 0.34 [  1.     0.14   1.     1.     0.    10.41 100.    10.89  91.34   0.53  18.22   7.78]\n",
      "54 0.517 [ 1.    0.68  0.88  1.    0.   35.22 67.5  43.87 83.45 90.72  1.89  1.41]\n",
      "55 0.231 [19.91  0.52  0.6   0.68  1.81 49.92 64.84 76.5  83.51 36.81  3.62  5.38]\n",
      "56 0.441 [20.    0.97  0.83  1.    0.   98.64  0.1  71.93 80.22  9.78  1.08  5.75]\n",
      "57 0.101 [20.    0.63  0.09  0.    2.   22.09  0.1  87.97 87.95 18.08  1.31  7.36]\n",
      "58 0.006 [19.83  0.    0.21  0.84  0.24 68.   81.36 11.14 86.59 27.88  1.04  6.14]\n",
      "59 0.62 [ 1.3   0.57  0.63  0.    1.34 67.79 81.24 16.21 29.54 60.49 11.04  4.69]\n",
      "60 0.269 [7.980e+00 5.800e-01 1.000e-02 2.400e-01 8.000e-01 7.389e+01 4.409e+01 2.469e+01 8.630e+00 2.995e+01 1.110e+00 7.400e-01]\n",
      "61 0.193 [ 1.    0.49  1.    1.    0.    0.1  20.28  0.1   0.1  69.67 14.22  3.75]\n",
      "62 0.332 [ 1.    0.92  1.    0.19  0.   51.61 75.79  9.18  0.1   1.2   1.02  4.4 ]\n",
      "63 0.249 [  1.     0.87   1.     1.     0.   100.    73.42   0.1   25.91   0.1    3.72   2.96]\n",
      "64 0.478 [  1.     0.54   0.22   0.44   0.1   31.83 100.   100.     7.3   61.72   3.18   1.92]\n",
      "65 0.564 [ 1.56  0.49  0.81  0.81  0.21 94.19  3.35 99.96 35.95 34.79  4.33  4.04]\n",
      "66 0.302 [ 1.22  0.52  0.3   0.45  1.58 29.57  0.95 86.18 47.3  53.21  6.23  2.97]\n",
      "67 0.448 [  1.     0.53   1.     0.31   0.   100.   100.   100.   100.    39.12  20.     9.68]\n",
      "68 0.179 [  1.     0.43   0.76   0.89   2.    95.75 100.     0.1   61.98  10.85   1.32   7.17]\n",
      "69 0.258 [ 20.     0.43   0.84   0.13   0.    49.09   0.1  100.    36.85 100.    19.46   8.47]\n",
      "70 0.491 [  1.     0.57   1.     0.55   0.89  26.9  100.   100.    90.69 100.     3.03   0.25]\n",
      "71 0.378 [ 1.09  0.66  0.59  0.62  0.4  82.88  1.85 99.9  96.57 99.6   3.55  4.76]\n",
      "72 0.159 [  1.     0.54   0.96   1.     0.4   88.39 100.   100.    19.88 100.     0.1    5.45]\n",
      "73 0.357 [  1.     0.53   0.88   0.92   2.    47.29 100.   100.    91.96 100.    20.     2.15]\n",
      "74 0.274 [ 8.41  0.2   0.87  1.    1.01 81.33  0.1  83.19 22.67  0.1  12.39  0.96]\n",
      "75 0.356 [  1.     0.54   1.     1.     1.08   0.1   75.45  18.78   2.76 100.     5.66   0.91]\n",
      "76 0.27 [  1.     0.32   0.22   1.     1.41  73.05 100.    20.59  40.43 100.     7.95   9.56]\n",
      "77 0.357 [  1.     0.95   0.25   0.52   1.67 100.    76.44   0.1   73.66 100.    16.53   3.34]\n",
      "78 0.67 [ 1.    0.52  1.    0.    2.   82.73 73.33 22.73 65.   69.5   5.59  4.88]\n",
      "79 0.447 [ 1.    0.98  0.    0.    2.   79.8  29.32 89.25 25.   79.19  1.65  8.23]\n",
      "80 0.13 [  1.     0.82   0.81   0.     2.    85.54 100.     0.1   39.81  48.5   13.05   9.6 ]\n",
      "81 0.317 [  1.     0.     1.     0.73   0.   100.    73.77 100.     6.75  66.93   0.1    0.1 ]\n",
      "82 0.305 [1.000e+00 6.100e-01 9.000e-02 0.000e+00 6.400e-01 9.014e+01 5.591e+01 1.000e+02 8.863e+01 1.000e-01 1.450e+00 6.100e+00]\n",
      "83 0.393 [ 2.58  0.6   0.62  0.37  1.41 98.68 73.67 65.75  1.24 31.12  9.6   7.1 ]\n",
      "84 0.32 [13.31  0.27  0.1   0.52  1.39 95.52  5.53  0.95  6.7  94.61 12.09  2.59]\n",
      "85 0.283 [1.000e+00 1.000e+00 9.100e-01 7.000e-02 1.660e+00 1.000e-01 7.823e+01 1.000e+02 1.000e-01 1.000e+02 2.000e+01 9.820e+00]\n",
      "86 0.241 [1.000e+00 8.300e-01 7.000e-02 0.000e+00 1.310e+00 1.000e+02 7.181e+01 1.000e+02 1.000e-01 6.558e+01 1.673e+01 3.890e+00]\n",
      "87 0.452 [  1.     0.54   0.97   0.     0.37  31.26  63.89  16.2   90.05 100.     8.65   8.19]\n",
      "88 0.295 [  1.     0.53   1.     0.4    1.58   0.1   77.6   40.27 100.     0.1   17.56   3.04]\n"
     ]
    },
    {
     "name": "stdout",
     "output_type": "stream",
     "text": [
      "89 0.3 [  1.     0.92   0.76   0.     0.84  41.09  70.9  100.     0.1    0.1    8.59   0.1 ]\n",
      "90 0.386 [  1.     0.55   0.14   0.7    0.33   0.1   64.26   2.46 100.    68.36   5.07   7.81]\n",
      "91 0.695 [  1.     0.55   1.     0.45   1.3   93.04  58.74 100.   100.    71.61   0.1    0.1 ]\n",
      "92 0.563 [ 1.14  0.79  0.63  0.17  0.54 10.54 71.39 79.84 29.45 81.71  5.33  6.71]\n",
      "93 0.463 [ 1.    0.43  0.82  0.68  1.37 30.68 66.17 86.53 41.4  81.79  8.25  1.25]\n",
      "94 0.518 [ 1.    0.12  0.47  0.32  1.74 69.35 66.7  59.58 29.09 99.7  18.62  3.9 ]\n",
      "95 0.757 [  1.     0.58   0.98   0.53   0.27  78.82 100.    17.65   5.28  35.37  19.59   1.59]\n",
      "96 0.544 [ 3.46  0.2   0.35  0.64  0.5  79.14 67.38 22.    6.35 47.26 19.03  4.71]\n",
      "97 0.426 [  1.14   0.     0.3    0.69   0.45   4.3  100.    41.28   5.25 100.    19.52   0.86]\n",
      "98 0.462 [ 1.    1.    0.7   0.93  1.31 38.17 62.47 77.94 28.92 40.05 16.19  5.74]\n",
      "99 0.542 [  1.     0.35   0.88   0.63   1.42  43.61 100.    90.45   4.96   9.47   2.41   2.88]\n",
      "100 0.54 [ 3.24  0.14  0.43  0.84  1.85  7.68 63.84 82.91  7.35 85.31 11.48  8.72]\n",
      "101 0.371 [ 1.15  0.13  0.92  0.52  1.51 14.33 76.39  0.27 30.15 67.26  1.2   2.55]\n",
      "102 0.389 [ 1.1   0.66  1.    0.55  1.09 34.98 57.93 97.34 99.97  8.97  1.96  0.43]\n",
      "103 0.428 [ 3.19  0.17  0.68  0.64  0.84 14.07 67.12 80.26  7.32 63.84  2.11  3.78]\n",
      "104 0.049 [ 1.    0.55  1.    0.1   1.3  38.76 99.49  0.1   5.26 51.08  0.76  8.14]\n",
      "105 0.271 [  1.     0.22   1.     1.     0.32  84.56 100.    27.83 100.    47.81  12.58   0.1 ]\n",
      "106 0.5 [ 1.24  0.29  0.32  0.84  1.17 48.84 65.96 86.19 34.91 65.17  4.93  9.16]\n",
      "107 0.58 [ 1.    0.29  0.31  0.59  1.14 28.87 65.74 88.04 33.41 64.45 15.86  5.05]\n",
      "108 0.094 [  1.     0.56   0.35   1.     1.73  90.81   0.1  100.    88.84   0.1   19.52  10.  ]\n",
      "109 0.527 [1.000e+00 5.000e-02 8.100e-01 4.900e-01 6.700e-01 7.633e+01 1.000e+02 1.000e+02 3.300e+01 6.211e+01 9.100e+00 8.700e-01]\n",
      "110 0.387 [  1.     0.66   0.59   0.53   0.    69.85 100.     0.1   54.31  59.4   12.15   6.01]\n",
      "111 0.378 [  1.     0.     0.73   0.48   1.12  79.91 100.     0.1   84.49  58.54   3.01   1.39]\n",
      "112 0.069 [ 20.     0.13   0.39   0.     2.   100.    12.26   1.16  31.95  20.07   9.81   8.29]\n",
      "113 0.071 [  1.     0.81   1.     0.5    0.     0.1   68.42 100.     0.1  100.    20.     0.1 ]\n",
      "114 0.324 [  1.     0.     0.68   1.     0.18  49.97  68.21 100.    14.37 100.     7.56   4.72]\n",
      "115 0.342 [  1.     0.77   0.35   0.5    0.    46.86 100.     8.06   0.1   46.73  20.     0.67]\n",
      "116 0.536 [  1.     0.76   0.65   0.22   0.    63.24  66.1  100.   100.    66.25   1.93   3.56]\n",
      "117 0.251 [  1.     0.     0.36   0.99   0.     7.07  81.46 100.   100.    57.33   5.43   2.71]\n",
      "118 0.515 [  1.     0.56   0.     0.39   0.72  91.66  63.77  67.26 100.    71.5    0.1    3.61]\n",
      "119 0.404 [  1.     0.56   1.     0.95   0.67 100.    57.05 100.     2.16  67.74   0.1    3.85]\n",
      "120 0.364 [ 1.    0.5   0.86  0.84  1.72 85.47 78.01 45.61 57.69 67.8  20.    3.46]\n",
      "121 0.354 [1.380e+00 5.600e-01 7.200e-01 8.400e-01 2.000e-02 7.345e+01 1.000e+02 3.760e+00 5.660e+00 6.692e+01 1.692e+01 9.770e+00]\n",
      "122 0.513 [1.000e+00 5.200e-01 2.800e-01 1.000e-02 1.840e+00 1.000e+02 6.906e+01 1.000e+02 4.434e+01 6.912e+01 7.930e+00 3.740e+00]\n",
      "123 0.414 [  1.     0.52   0.     0.86   0.    95.25  68.68 100.    93.14  69.3    7.8    3.82]\n",
      "124 0.467 [  1.     0.36   0.57   0.     0.69  47.92 100.   100.    94.53 100.     0.1    0.1 ]\n",
      "125 0.38 [1.000e+00 4.400e-01 1.000e+00 9.000e-02 1.910e+00 2.897e+01 7.646e+01 4.990e+01 5.031e+01 1.000e+02 7.120e+00 1.830e+00]\n",
      "126 0.712 [  1.     0.5    0.81   0.8    0.46  28.82 100.   100.     1.95  43.72   8.03   0.1 ]\n",
      "127 0.254 [  1.     0.5    1.     0.14   1.65  12.11 100.   100.     0.1   43.34   9.78   0.1 ]\n",
      "128 0.213 [  1.     1.     0.55   0.39   0.26 100.    62.06 100.     0.1  100.     5.26   0.1 ]\n",
      "129 0.434 [  1.     0.49   0.94   0.2    0.    14.69 100.    61.55 100.    61.77   0.1    2.65]\n",
      "130 0.54 [1.000e+00 5.300e-01 8.300e-01 0.000e+00 6.000e-02 9.108e+01 6.438e+01 1.000e+02 9.185e+01 6.136e+01 1.000e-01 3.510e+00]\n",
      "131 0.57 [  1.     0.54   0.28   0.7    2.     0.1   63.56 100.    28.91  62.17   0.1    3.63]\n",
      "132 0.51 [1.000e+00 5.500e-01 1.000e-02 4.000e-01 1.510e+00 3.298e+01 5.996e+01 1.000e+02 1.000e+02 6.431e+01 1.000e-01 4.050e+00]\n",
      "133 0.301 [  1.     0.52   0.52   0.97   0.23  97.92  70.83 100.    90.24  57.46   0.1    2.48]\n",
      "134 0.371 [  1.     0.4    0.94   0.38   1.26 100.    94.92 100.    70.69 100.     2.28   2.5 ]\n",
      "135 0.101 [1.000e+00 2.100e-01 3.900e-01 1.600e-01 6.000e-02 1.000e+02 1.000e+02 1.000e-01 1.000e-01 5.681e+01 2.000e+01 1.000e-01]\n",
      "136 0.568 [  1.04   0.58   0.64   0.56   1.35  93.77  64.5  100.    99.43  94.25   5.2    1.49]\n",
      "137 0.703 [  3.76   0.99   0.77   0.71   1.94  85.82  65.25  95.87   6.24 100.    14.22   8.37]\n",
      "138 0.505 [  1.34   0.41   0.74   0.59   0.55  97.21 100.    15.2    4.41  35.76   9.57   0.1 ]\n",
      "139 0.576 [ 3.54  0.59  0.5   0.69  0.99 75.52 66.11 34.62  6.41 98.03 12.93  9.16]\n",
      "140 0.428 [  1.19   0.35   0.64   0.53   0.73  44.77 100.     6.23   5.64  20.83  13.95   7.72]\n",
      "141 0.528 [ 1.    0.59  0.27  0.44  0.11  4.41 65.44 32.55 40.49 57.01  2.29  4.6 ]\n",
      "142 0.54 [ 1.    0.6   0.33  0.47  1.73 42.37 65.98 66.9  40.45 62.68  9.38  5.85]\n",
      "143 0.411 [  4.49   0.93   0.39   0.99   0.33  54.91 100.   100.     3.21 100.     2.09   7.13]\n",
      "144 0.394 [ 1.06  0.3   0.    0.23  0.46 93.94 60.78 22.33 31.21 41.38  9.07  8.31]\n",
      "145 0.623 [  4.65   0.89   0.84   0.6    1.22  21.98  58.27 100.     6.98 100.    18.    10.  ]\n",
      "146 0.47 [  1.     0.64   0.87   0.97   1.05  76.1  100.    66.56   2.61  15.16  19.95   0.73]\n",
      "147 0.428 [  1.     0.44   0.39   0.46   1.81  36.96  73.8  100.    96.74 100.    13.83   4.46]\n",
      "148 0.606 [  5.15   0.62   0.41   0.65   1.46  22.13  79.62 100.     7.67 100.     1.26  10.  ]\n",
      "149 0.485 [ 1.    0.37  0.77  0.6   0.56 97.34 61.01 91.2  29.03 98.61  9.98  8.01]\n",
      "150 0.501 [  1.     0.88   0.93   0.58   1.76  96.54  74.   100.   100.    71.04   4.79   1.11]\n",
      "151 0.664 [ 1.93  0.78  0.97  0.56  0.69 42.96 81.85 31.98  5.72 54.43 19.77  3.1 ]\n",
      "152 0.371 [  1.     0.21   0.12   0.     0.74  31.66 100.   100.    26.98  72.62  12.45   1.41]\n",
      "153 0.26 [ 1.    0.43  0.39  0.    2.   40.93 94.48  0.1  64.55 45.26  4.37  2.82]\n",
      "154 0.523 [1.000e+00 1.600e-01 7.600e-01 5.700e-01 4.000e-02 5.134e+01 1.000e+02 5.550e+00 9.760e+00 2.165e+01 8.640e+00 1.460e+00]\n",
      "155 0.513 [  1.     0.93   0.68   0.6    0.77  53.32  30.84 100.    34.49  64.38   6.42   5.53]\n",
      "156 0.638 [  3.99   0.41   0.94   0.71   0.96  25.75 100.    53.29   5.51  38.74  13.25   3.09]\n",
      "157 0.417 [  1.     0.4    1.     0.76   2.    86.81 100.    24.07   5.38  46.66  15.86   3.46]\n",
      "158 0.541 [  6.95   0.49   0.87   0.68   1.83  54.31  77.13 100.     5.87 100.     7.66  10.  ]\n",
      "159 0.46 [  6.1    0.95   1.     0.73   0.56   0.1  100.   100.     0.1    0.1   10.17   1.36]\n",
      "160 0.319 [1.000e+00 6.500e-01 4.000e-02 4.900e-01 1.200e+00 3.483e+01 1.000e+02 1.000e+02 1.000e+01 1.000e-01 4.400e-01 1.000e-01]\n",
      "161 0.293 [  5.7    0.39   1.     0.82   0.54  69.61  67.44   0.1    0.1  100.     7.08  10.  ]\n",
      "162 0.44 [ 4.27  0.74  0.9   0.66  1.99 78.1  39.48 60.96  5.97 62.85 19.78  4.28]\n",
      "163 0.348 [  1.     0.72   0.66   0.62   0.27  68.31 100.    83.53  16.61  39.74  16.14   3.7 ]\n",
      "164 0.351 [  1.     0.86   0.26   0.7    0.73  13.46  87.37 100.     7.54 100.     0.13  10.  ]\n",
      "165 0.564 [  4.9    0.15   0.54   0.61   0.18  78.51 100.    79.21   6.38  69.75  16.84   7.14]\n",
      "166 0.183 [5.250e+00 4.400e-01 2.000e-02 7.200e-01 1.560e+00 3.383e+01 5.581e+01 8.381e+01 8.640e+00 1.000e+02 1.760e+01 1.000e+01]\n",
      "167 0.531 [ 1.04  0.86  0.5   0.56  1.87 49.6  66.59 89.91 29.43 77.57  1.1   1.6 ]\n",
      "168 0.3 [ 4.12  0.81  0.74  0.64  1.36 78.32 98.91 82.18  6.57 92.87 15.93  2.68]\n",
      "169 0.531 [  1.     0.79   1.     0.4    0.    87.31  57.06 100.   100.    80.19   2.17   3.47]\n",
      "170 0.657 [  1.     0.61   1.     0.42   0.    90.8   64.12 100.    74.67  66.69   2.65   3.72]\n",
      "171 0.504 [1.000e+00 4.000e-02 1.000e+00 4.200e-01 9.200e-01 1.000e+02 6.383e+01 1.000e+02 7.221e+01 6.549e+01 1.963e+01 3.830e+00]\n",
      "172 0.636 [  1.     0.62   1.     0.4    0.     8.59  58.17 100.   100.    79.57   0.1    3.32]\n",
      "173 0.45 [ 2.11  0.69  1.    0.55  0.95 21.55 95.55 67.55  5.15 25.98 19.65  8.09]\n"
     ]
    },
    {
     "name": "stdout",
     "output_type": "stream",
     "text": [
      "174 0.325 [ 1.    0.91  0.4   0.53  1.04 13.22 73.96 24.82 28.99 88.34 12.35  7.45]\n",
      "175 0.166 [  1.     0.86   1.     0.4    0.    69.47  56.88 100.   100.    79.18   0.1    3.33]\n",
      "176 -0.006 [  1.     0.51   1.     0.65   0.25  60.69  80.3  100.     0.1   50.14   2.15   6.89]\n",
      "177 0.349 [3.990e+00 2.000e-02 7.900e-01 5.300e-01 0.000e+00 9.162e+01 1.000e+02 1.000e+02 1.000e+02 1.000e+02 1.558e+01 1.000e-01]\n",
      "178 0.279 [  1.     0.     0.11   0.53   0.     7.37 100.   100.   100.   100.     0.26   7.52]\n",
      "179 0.432 [  3.78   0.84   0.64   0.5    0.   100.    56.78 100.   100.    76.52   3.41   9.39]\n",
      "180 0.283 [  1.     0.18   0.3    0.67   2.   100.     0.1  100.     0.1    0.1    7.83   6.15]\n",
      "181 0.731 [  4.06   1.     0.41   0.56   1.34 100.    65.82 100.    61.58  71.05  18.64   8.54]\n",
      "182 0.449 [3.660e+00 8.100e-01 8.000e-02 3.800e-01 1.830e+00 7.782e+01 6.868e+01 9.497e+01 4.161e+01 1.000e+02 1.831e+01 4.960e+00]\n",
      "183 0.593 [  4.52   1.     0.     0.53   2.    96.63  66.82 100.    60.39  69.97  13.75   0.1 ]\n",
      "184 0.485 [  3.84   0.73   0.69   0.48   1.15 100.    63.56 100.    84.35 100.     0.59   4.7 ]\n",
      "185 0.425 [1.000e+00 3.000e-02 6.500e-01 4.400e-01 1.070e+00 7.619e+01 6.107e+01 1.000e+02 1.000e+02 1.000e+02 1.000e-01 1.000e+01]\n",
      "186 0.413 [  6.46   1.     1.     0.88   2.   100.   100.   100.     0.1   53.27  13.78   0.1 ]\n",
      "187 0.623 [  4.46   0.97   1.     0.55   1.34  14.28  67.83 100.    65.33  72.34   5.04   0.1 ]\n",
      "188 0.567 [  4.18   1.     1.     0.55   1.29   3.29  67.36 100.    67.19  70.91  18.2    8.21]\n",
      "189 0.507 [  3.96   1.     1.     0.55   1.27   1.86  67.17 100.    68.07  70.61   0.1    0.1 ]\n",
      "190 0.405 [  1.     1.     0.65   0.49   1.15  58.77  66.36 100.    78.46  69.68  12.92   8.78]\n",
      "191 0.561 [  6.86   1.     0.33   0.56   2.    64.8   68.1  100.   100.    89.04   0.1    3.31]\n",
      "192 0.459 [ 5.24  0.06  0.94  0.53  0.29 54.41 54.61 24.32  0.1  19.84 18.06  8.02]\n",
      "193 0.319 [ 5.22  0.28  0.92  0.65  0.9  22.08 81.94 45.51 52.42 48.64 18.56  4.43]\n",
      "194 0.318 [ 4.97  0.94  0.15  0.64  1.65 88.03 23.58 96.11 82.09 92.68  5.71  5.85]\n",
      "195 0.383 [10.95  0.57  0.7   0.53  1.74 98.12 79.43 56.93 57.99 46.34  6.76  7.58]\n",
      "196 0.567 [  4.74   1.     0.59   0.69   2.    79.79  64.72 100.    59.07  56.55  11.17   1.92]\n",
      "197 0.578 [  4.74   0.63   1.     0.68   2.   100.    64.8  100.    58.16  16.39  11.33   3.87]\n",
      "198 0.155 [ 20.     0.68   0.96   0.     2.    93.73 100.   100.     0.1   44.89  17.34   7.45]\n",
      "199 0.633 [  4.62   1.     1.     0.54   0.94 100.    64.57 100.    57.04  12.04   6.6    1.97]\n"
     ]
    }
   ],
   "source": [
    "# global_res = train_agent('global', n_iter=200)\n",
    "meta_res = train_agent('meta', n_iter=100, )"
   ]
  },
  {
   "cell_type": "code",
   "execution_count": 21,
   "metadata": {},
   "outputs": [
    {
     "name": "stdout",
     "output_type": "stream",
     "text": [
      "0 0.531 [  3.82   1.     1.     0.54   2.    99.78  64.76 100.    56.91  95.44   8.91   0.1 ]\n",
      "1 0.507 [  1.     0.58   0.98   0.53   0.27  78.82 100.    17.65   5.28  35.37  19.59   1.59]\n",
      "Expected: [  3.82   1.     1.     0.54   2.    99.78  64.76 100.    56.91  95.44   8.91   0.1 ]  ->  0.531  (0.541)\n",
      "Empirical: [  1.     0.58   0.98   0.53   0.27  78.82 100.    17.65   5.28  35.37  19.59   1.59]  ->  0.507  (0.757)\n"
     ]
    }
   ],
   "source": [
    "from skopt import expected_minimum\n",
    "\n",
    "def choose_x(res):\n",
    "    objective = make_objective(training_return, N=1000)\n",
    "    x_exp, f_exp_pred = expected_minimum(res)\n",
    "    f_exp = objective(x_exp)\n",
    "    x_emp, f_emp_pred = res.x, res.fun\n",
    "    f_emp = objective(x_emp)\n",
    "    print(f'Expected: {np.round(x_exp, 2)}  ->  {f_exp:.3f}  ({-f_exp_pred:.3f})')\n",
    "    print(f'Empirical: {np.round(x_emp, 2)}  ->  {f_emp:.3f}  ({-f_emp_pred:.3f})')\n",
    "    return x_exp if f_exp > f_emp else x_emp\n",
    "    \n",
    "x_meta = choose_x(meta_res)"
   ]
  },
  {
   "cell_type": "code",
   "execution_count": 53,
   "metadata": {
    "collapsed": true
   },
   "outputs": [
    {
     "name": "stderr",
     "output_type": "stream",
     "text": [
      "/usr/people/flc2/miniconda3/lib/python3.7/site-packages/joblib/externals/loky/process_executor.py:683: UserWarning: A worker stopped while some jobs were given to the executor. This can be caused by a too short worker timeout or by a memory leak.\n",
      "  \"timeout or by a memory leak.\", UserWarning\n",
      "/usr/people/flc2/miniconda3/lib/python3.7/site-packages/joblib/externals/loky/process_executor.py:683: UserWarning: A worker stopped while some jobs were given to the executor. This can be caused by a too short worker timeout or by a memory leak.\n",
      "  \"timeout or by a memory leak.\", UserWarning\n",
      "/usr/people/flc2/miniconda3/lib/python3.7/site-packages/joblib/externals/loky/process_executor.py:683: UserWarning: A worker stopped while some jobs were given to the executor. This can be caused by a too short worker timeout or by a memory leak.\n",
      "  \"timeout or by a memory leak.\", UserWarning\n"
     ]
    },
    {
     "name": "stdout",
     "output_type": "stream",
     "text": [
      "0 0.55 [4.51e+00 1.00e+00 6.10e-01 5.00e-01 2.00e+00 1.00e+10 1.00e+10 1.00e+10 1.00e+10 1.00e+10 1.00e+00 1.00e+00]\n",
      "Expected: -0.549\n",
      "Empirical: 0.550\n"
     ]
    },
    {
     "name": "stderr",
     "output_type": "stream",
     "text": [
      "/usr/people/flc2/miniconda3/lib/python3.7/site-packages/joblib/externals/loky/process_executor.py:683: UserWarning: A worker stopped while some jobs were given to the executor. This can be caused by a too short worker timeout or by a memory leak.\n",
      "  \"timeout or by a memory leak.\", UserWarning\n",
      "/usr/people/flc2/miniconda3/lib/python3.7/site-packages/joblib/externals/loky/process_executor.py:683: UserWarning: A worker stopped while some jobs were given to the executor. This can be caused by a too short worker timeout or by a memory leak.\n",
      "  \"timeout or by a memory leak.\", UserWarning\n",
      "/usr/people/flc2/miniconda3/lib/python3.7/site-packages/joblib/externals/loky/process_executor.py:683: UserWarning: A worker stopped while some jobs were given to the executor. This can be caused by a too short worker timeout or by a memory leak.\n",
      "  \"timeout or by a memory leak.\", UserWarning\n",
      "/usr/people/flc2/miniconda3/lib/python3.7/site-packages/joblib/externals/loky/process_executor.py:683: UserWarning: A worker stopped while some jobs were given to the executor. This can be caused by a too short worker timeout or by a memory leak.\n",
      "  \"timeout or by a memory leak.\", UserWarning\n",
      "/usr/people/flc2/miniconda3/lib/python3.7/site-packages/joblib/externals/loky/process_executor.py:683: UserWarning: A worker stopped while some jobs were given to the executor. This can be caused by a too short worker timeout or by a memory leak.\n",
      "  \"timeout or by a memory leak.\", UserWarning\n",
      "/usr/people/flc2/miniconda3/lib/python3.7/site-packages/joblib/externals/loky/process_executor.py:683: UserWarning: A worker stopped while some jobs were given to the executor. This can be caused by a too short worker timeout or by a memory leak.\n",
      "  \"timeout or by a memory leak.\", UserWarning\n",
      "/usr/people/flc2/miniconda3/lib/python3.7/site-packages/joblib/externals/loky/process_executor.py:683: UserWarning: A worker stopped while some jobs were given to the executor. This can be caused by a too short worker timeout or by a memory leak.\n",
      "  \"timeout or by a memory leak.\", UserWarning\n",
      "/usr/people/flc2/miniconda3/lib/python3.7/site-packages/joblib/externals/loky/process_executor.py:683: UserWarning: A worker stopped while some jobs were given to the executor. This can be caused by a too short worker timeout or by a memory leak.\n",
      "  \"timeout or by a memory leak.\", UserWarning\n",
      "/usr/people/flc2/miniconda3/lib/python3.7/site-packages/joblib/externals/loky/process_executor.py:683: UserWarning: A worker stopped while some jobs were given to the executor. This can be caused by a too short worker timeout or by a memory leak.\n",
      "  \"timeout or by a memory leak.\", UserWarning\n",
      "/usr/people/flc2/miniconda3/lib/python3.7/site-packages/joblib/externals/loky/process_executor.py:683: UserWarning: A worker stopped while some jobs were given to the executor. This can be caused by a too short worker timeout or by a memory leak.\n",
      "  \"timeout or by a memory leak.\", UserWarning\n",
      "/usr/people/flc2/miniconda3/lib/python3.7/site-packages/joblib/externals/loky/process_executor.py:683: UserWarning: A worker stopped while some jobs were given to the executor. This can be caused by a too short worker timeout or by a memory leak.\n",
      "  \"timeout or by a memory leak.\", UserWarning\n",
      "/usr/people/flc2/miniconda3/lib/python3.7/site-packages/joblib/externals/loky/process_executor.py:683: UserWarning: A worker stopped while some jobs were given to the executor. This can be caused by a too short worker timeout or by a memory leak.\n",
      "  \"timeout or by a memory leak.\", UserWarning\n",
      "/usr/people/flc2/miniconda3/lib/python3.7/site-packages/joblib/externals/loky/process_executor.py:683: UserWarning: A worker stopped while some jobs were given to the executor. This can be caused by a too short worker timeout or by a memory leak.\n",
      "  \"timeout or by a memory leak.\", UserWarning\n",
      "/usr/people/flc2/miniconda3/lib/python3.7/site-packages/joblib/externals/loky/process_executor.py:683: UserWarning: A worker stopped while some jobs were given to the executor. This can be caused by a too short worker timeout or by a memory leak.\n",
      "  \"timeout or by a memory leak.\", UserWarning\n",
      "/usr/people/flc2/miniconda3/lib/python3.7/site-packages/joblib/externals/loky/process_executor.py:683: UserWarning: A worker stopped while some jobs were given to the executor. This can be caused by a too short worker timeout or by a memory leak.\n",
      "  \"timeout or by a memory leak.\", UserWarning\n",
      "/usr/people/flc2/miniconda3/lib/python3.7/site-packages/joblib/externals/loky/process_executor.py:683: UserWarning: A worker stopped while some jobs were given to the executor. This can be caused by a too short worker timeout or by a memory leak.\n",
      "  \"timeout or by a memory leak.\", UserWarning\n",
      "/usr/people/flc2/miniconda3/lib/python3.7/site-packages/joblib/externals/loky/process_executor.py:683: UserWarning: A worker stopped while some jobs were given to the executor. This can be caused by a too short worker timeout or by a memory leak.\n",
      "  \"timeout or by a memory leak.\", UserWarning\n",
      "/usr/people/flc2/miniconda3/lib/python3.7/site-packages/joblib/externals/loky/process_executor.py:683: UserWarning: A worker stopped while some jobs were given to the executor. This can be caused by a too short worker timeout or by a memory leak.\n",
      "  \"timeout or by a memory leak.\", UserWarning\n",
      "/usr/people/flc2/miniconda3/lib/python3.7/site-packages/joblib/externals/loky/process_executor.py:683: UserWarning: A worker stopped while some jobs were given to the executor. This can be caused by a too short worker timeout or by a memory leak.\n",
      "  \"timeout or by a memory leak.\", UserWarning\n",
      "/usr/people/flc2/miniconda3/lib/python3.7/site-packages/joblib/externals/loky/process_executor.py:683: UserWarning: A worker stopped while some jobs were given to the executor. This can be caused by a too short worker timeout or by a memory leak.\n",
      "  \"timeout or by a memory leak.\", UserWarning\n",
      "/usr/people/flc2/miniconda3/lib/python3.7/site-packages/joblib/externals/loky/process_executor.py:683: UserWarning: A worker stopped while some jobs were given to the executor. This can be caused by a too short worker timeout or by a memory leak.\n",
      "  \"timeout or by a memory leak.\", UserWarning\n",
      "/usr/people/flc2/miniconda3/lib/python3.7/site-packages/joblib/externals/loky/process_executor.py:683: UserWarning: A worker stopped while some jobs were given to the executor. This can be caused by a too short worker timeout or by a memory leak.\n",
      "  \"timeout or by a memory leak.\", UserWarning\n"
     ]
    },
    {
     "name": "stdout",
     "output_type": "stream",
     "text": [
      "0 0.508 [  4.51   1.     0.61   0.5    2.   100.   100.   100.   100.   100.     1.     1.  ]\n",
      "100: 0.5079569035419126\n"
     ]
    }
   ],
   "source": [
    "# from skopt import expected_minimum\n",
    "# x_global, f_global = expected_minimum(global_res)\n",
    "# print(np.round(x_global, 3))\n",
    "\n",
    "# prm = make_prior_params(x_global)\n",
    "# f_emp = make_objective(training_return, N=1000)(prm)\n",
    "# print(f'Expected: {-f_global:.3f}')\n",
    "# print(f'Empirical: {f_emp:.3f}')\n",
    "\n",
    "# prm_100 = make_prior_params(x_global)\n",
    "# prm_100[5:10] = 100\n",
    "# f_100 = make_objective(training_return, N=1000)(prm_100)\n",
    "\n",
    "# print(f'100: {f_100}')\n",
    "\n",
    "# meta_res = train_agent('meta', n_iter=200, x0=[prm_100.tolist()], y0=[f_100])"
   ]
  },
  {
   "cell_type": "code",
   "execution_count": 53,
   "metadata": {},
   "outputs": [],
   "source": []
  },
  {
   "cell_type": "code",
   "execution_count": 54,
   "metadata": {},
   "outputs": [
    {
     "name": "stdout",
     "output_type": "stream",
     "text": [
      "CPU times: user 2.18 s, sys: 200 ms, total: 2.38 s\n",
      "Wall time: 9.7 s\n"
     ]
    }
   ],
   "source": [
    "from tqdm import tqdm\n",
    "\n",
    "def train(env, prior_params, n_episode, seed):\n",
    "    np.random.seed(seed)\n",
    "    random.seed(seed)\n",
    "    df = create_training_df(env, prior_params, n_episode)\n",
    "    return df.return_\n",
    "\n",
    "\n",
    "def train_many(envs, x, n_episode=20):\n",
    "    prior_params = make_prior_params(x)\n",
    "    jobs = (delayed(train)(env, prior_params, n_episode, np.random.randint(10000000)) for env in envs)\n",
    "    return Parallel(-1)((jobs))\n",
    "\n",
    "x_baseline = list(np.r_[np.zeros(5), np.ones(5)*.01, 1,.1])\n",
    "num_replications = 1000\n",
    "envs = [sample_env() for _ in range(num_replications)]\n",
    "# %time global_returns = train_many(envs, x_global)\n",
    "%time meta_returns = train_many(envs, x_meta)\n",
    "%time baseline_returns = train_many(envs, x_baseline)"
   ]
  },
  {
   "cell_type": "code",
   "execution_count": 58,
   "metadata": {},
   "outputs": [
    {
     "data": {
      "text/plain": [
       "Text(0,0.5,'Return')"
      ]
     },
     "execution_count": 58,
     "metadata": {},
     "output_type": "execute_result"
    },
    {
     "data": {
      "image/png": "[encoded data removed]",
      "text/plain": [
       "<Figure size 432x288 with 1 Axes>"
      ]
     },
     "metadata": {},
     "output_type": "display_data"
    }
   ],
   "source": [
    "def plot_returns(X, **kwargs):\n",
    "    plt.errorbar(x=np.arange(X.shape[1]),y=np.mean(X,axis=0),\n",
    "             yerr=np.std(X,axis=0)/np.sqrt(X.shape[0]), **kwargs)\n",
    "    \n",
    "# plot_returns(np.stack(global_returns), label='Global')\n",
    "plot_returns(np.stack(baseline_returns), label='Baseline')\n",
    "plot_returns(np.stack(meta_returns), label='Meta')\n",
    "plt.xlabel(\"Episode\")\n",
    "plt.ylabel(\"Return\")"
   ]
  },
  {
   "cell_type": "code",
   "execution_count": 98,
   "metadata": {},
   "outputs": [
    {
     "name": "stderr",
     "output_type": "stream",
     "text": [
      "/usr/people/flc2/miniconda3/lib/python3.7/site-packages/scipy/stats/stats.py:1713: FutureWarning: Using a non-tuple sequence for multidimensional indexing is deprecated; use `arr[tuple(seq)]` instead of `arr[seq]`. In the future this will be interpreted as an array index, `arr[np.array(seq)]`, which will result either in an error or a different result.\n",
      "  return np.add.reduce(sorted[indexer] * weights, axis=axis) / sumval\n"
     ]
    },
    {
     "data": {
      "image/png": "[encoded data removed]",
      "text/plain": [
       "<Figure size 432x288 with 1 Axes>"
      ]
     },
     "metadata": {},
     "output_type": "display_data"
    }
   ],
   "source": [
    "\n",
    "m = pd.melt(pd.DataFrame(np.stack(meta_returns)), var_name='Episode', value_name='Return')\n",
    "sns.lineplot(m.Episode, m.Return)\n",
    "\n",
    "n = pd.melt(pd.DataFrame(np.stack(baseline_returns)), var_name='Episode', value_name='Return')\n",
    "sns.lineplot(n.Episode, n.Return, color=(0.6, 0.6, 0.6))\n",
    "\n",
    "\n",
    "plt.legend(['Metalearned Prior', 'Uninformative Prior'], loc='lower right')\n",
    "plt.savefig('figs/results.pdf',  pad_inches=0.1, bbox_inches='tight')"
   ]
  },
  {
   "cell_type": "code",
   "execution_count": 137,
   "metadata": {},
   "outputs": [
    {
     "ename": "AttributeError",
     "evalue": "'list' object has no attribute 'shape'",
     "output_type": "error",
     "traceback": [
      "\u001b[0;31m---------------------------------------------------------------------------\u001b[0m",
      "\u001b[0;31mAttributeError\u001b[0m                            Traceback (most recent call last)",
      "\u001b[0;32m<ipython-input-137-0ae08d3b28c4>\u001b[0m in \u001b[0;36m<module>\u001b[0;34m()\u001b[0m\n\u001b[0;32m----> 1\u001b[0;31m plt.errorbar(x=np.arange(global_returns.shape[1]),y=np.mean(global_returns,axis=0),\n\u001b[0m\u001b[1;32m      2\u001b[0m              yerr=np.std(global_returns,axis=0)/np.sqrt(global_returns.shape[0]),label='mean return of learned policy')\n\u001b[1;32m      3\u001b[0m plt.errorbar(x=np.arange(meta_returns.shape[1]),y=np.mean(meta_returns,axis=0),\n\u001b[1;32m      4\u001b[0m              yerr=np.std(meta_returns,axis=0)/np.sqrt(meta_returns.shape[0]),label='mean return of meta-learned policy')\n\u001b[1;32m      5\u001b[0m \u001b[0;31m#plt.errorbar(np.mean(returns_meta,axis=0),'.-',label='mean return of meta-learned policy')\u001b[0m\u001b[0;34m\u001b[0m\u001b[0;34m\u001b[0m\u001b[0;34m\u001b[0m\u001b[0m\n",
      "\u001b[0;31mAttributeError\u001b[0m: 'list' object has no attribute 'shape'"
     ]
    }
   ],
   "source": [
    "plt.errorbar(x=np.arange(global_returns.shape[1]),y=np.mean(global_returns,axis=0),\n",
    "             yerr=np.std(global_returns,axis=0)/np.sqrt(global_returns.shape[0]),label='mean return of learned policy')\n",
    "plt.errorbar(x=np.arange(meta_returns.shape[1]),y=np.mean(meta_returns,axis=0),\n",
    "             yerr=np.std(meta_returns,axis=0)/np.sqrt(meta_returns.shape[0]),label='mean return of meta-learned policy')\n",
    "#plt.errorbar(np.mean(returns_meta,axis=0),'.-',label='mean return of meta-learned policy')\n",
    "#plt.plot(pd.DataFrame(np.mean(returns,axis=0)).rolling(10).mean(),'.-',label='mean return of learned policy')\n",
    "#plt.axhline(np.mean(optimal_return),color='black',linestyle='dashed',label='return of optimal policy')\n",
    "plt.legend(frameon=False)\n",
    "\n",
    "plt.show()\n",
    "\n",
    "#plt.show()\n",
    "#df.n_steps.rolling(1).mean().plot()\n",
    "#plt.show()"
   ]
  },
  {
   "cell_type": "code",
   "execution_count": 145,
   "metadata": {},
   "outputs": [],
   "source": [
    "np.savetxt('returns_notmeta.txt',returns)\n",
    "np.savetxt('returns_meta.txt',returns_meta)"
   ]
  },
  {
   "cell_type": "code",
   "execution_count": 149,
   "metadata": {},
   "outputs": [
    {
     "data": {
      "text/plain": [
       "[<matplotlib.lines.Line2D at 0x1608d036c18>]"
      ]
     },
     "execution_count": 149,
     "metadata": {},
     "output_type": "execute_result"
    },
    {
     "data": {
      "image/png": "[encoded data removed]",
      "text/plain": [
       "<Figure size 432x288 with 1 Axes>"
      ]
     },
     "metadata": {
      "needs_background": "light"
     },
     "output_type": "display_data"
    }
   ],
   "source": [
    "x = np.loadtxt('returns_notmeta.txt')\n",
    "y = np.loadtxt('returns_meta.txt')\n",
    "plt.plot(np.mean(x,axis=0))\n",
    "plt.plot(np.mean(y,axis=0))"
   ]
  },
  {
   "cell_type": "code",
   "execution_count": null,
   "metadata": {},
   "outputs": [],
   "source": []
  }
 ],
 "metadata": {
  "@webio": {
   "lastCommId": null,
   "lastKernelId": null
  },
  "anaconda-cloud": {},
  "kernelspec": {
   "display_name": "Python 3",
   "language": "python",
   "name": "python3"
  },
  "language_info": {
   "codemirror_mode": {
    "name": "ipython",
    "version": 3
   },
   "file_extension": ".py",
   "mimetype": "text/x-python",
   "name": "python",
   "nbconvert_exporter": "python",
   "pygments_lexer": "ipython3",
   "version": "3.7.3"
  },
  "nav_menu": {},
  "toc": {
   "navigate_menu": true,
   "number_sections": true,
   "sideBar": true,
   "threshold": 6,
   "toc_cell": false,
   "toc_section_display": "block",
   "toc_window_display": false
  },
  "varInspector": {
   "cols": {
    "lenName": 16,
    "lenType": 16,
    "lenVar": 40
   },
   "kernels_config": {
    "python": {
     "delete_cmd_postfix": "",
     "delete_cmd_prefix": "del ",
     "library": "var_list.py",
     "varRefreshCmd": "print(var_dic_list())"
    },
    "r": {
     "delete_cmd_postfix": ") ",
     "delete_cmd_prefix": "rm(",
     "library": "var_list.r",
     "varRefreshCmd": "cat(var_dic_list()) "
    }
   },
   "types_to_exclude": [
    "module",
    "function",
    "builtin_function_or_method",
    "instance",
    "_Feature"
   ],
   "window_display": false
  }
 },
 "nbformat": 4,
 "nbformat_minor": 1
}
