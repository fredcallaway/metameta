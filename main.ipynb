{
 "cells": [
  {
   "cell_type": "code",
   "execution_count": 1,
   "metadata": {},
   "outputs": [],
   "source": [
    "%matplotlib inline\n",
    "# %load_ext autoreload\n",
    "# %autoreload 2\n",
    "\n",
    "import matplotlib.pyplot as plt\n",
    "import numpy as np\n",
    "import pandas as pd\n",
    "import seaborn as sns\n",
    "sns.set_context('notebook', font_scale=1.3)\n",
    "sns.set_style('white')"
   ]
  },
  {
   "cell_type": "code",
   "execution_count": 2,
   "metadata": {},
   "outputs": [
    {
     "name": "stderr",
     "output_type": "stream",
     "text": [
      "/usr/local/lib/miniconda3/lib/python3.7/site-packages/sklearn/externals/joblib/__init__.py:15: DeprecationWarning: sklearn.externals.joblib is deprecated in 0.21 and will be removed in 0.23. Please import this functionality directly from joblib, which can be installed with: pip install joblib. If this warning is raised when loading pickled models, you may need to re-serialize those models with scikit-learn 0.21+.\n",
      "  warnings.warn(msg, category=DeprecationWarning)\n"
     ]
    }
   ],
   "source": [
    "from mouselab import *\n",
    "from distributions import *\n",
    "from bayes_q import *\n",
    "from gymrats.core import Agent\n",
    "from exact import solve\n",
    "from skopt import gp_minimize\n",
    "from skopt.space import Real,Space\n",
    "\n",
    "from joblib import Parallel, delayed, load, dump"
   ]
  },
  {
   "cell_type": "code",
   "execution_count": 3,
   "metadata": {},
   "outputs": [],
   "source": [
    "cost_range = [0,0.3]\n",
    "branch_range = [2,4]\n",
    "height_range = [2,4]\n",
    "reward_alpha = 1"
   ]
  },
  {
   "cell_type": "code",
   "execution_count": 4,
   "metadata": {},
   "outputs": [],
   "source": [
    "def get_optimal_return(env):\n",
    "    q, v, pi, info = solve(env)\n",
    "    return v(env.init)\n",
    "\n",
    "def sample_env():\n",
    "    cost = np.random.uniform(*cost_range)\n",
    "    branch = np.random.randint(*branch_range)\n",
    "    height = np.random.randint(*height_range)\n",
    "    R = Categorical([-1, 0, 1],np.random.dirichlet(np.ones(3)*reward_alpha))\n",
    "    return MouselabEnv(branch, height, reward=R, cost=cost)"
   ]
  },
  {
   "cell_type": "code",
   "execution_count": 5,
   "metadata": {},
   "outputs": [],
   "source": [
    "import random\n",
    "\n",
    "def create_training_df(env, prior_params, n_episode):\n",
    "    policy = BayesianQLearner(5, prior_params=prior_params)\n",
    "    agent = Agent(env, policy)\n",
    "    return pd.DataFrame(agent.run_many(n_episode, pbar=False))\n",
    "\n",
    "def make_prior_params(x):\n",
    "    if len(x) == 5:  # no learning\n",
    "        return np.r_[x[:5], np.ones(5) * 1e10, 1, 1]\n",
    "    else:\n",
    "        assert len(x) == 12\n",
    "        return x\n",
    "\n",
    "def training_return(x, seed=None, n_episode=20):\n",
    "    if seed is not None:\n",
    "        np.random.seed(seed)\n",
    "        random.seed(seed)\n",
    "    df = create_training_df(sample_env(), make_prior_params(x), n_episode)\n",
    "    return np.mean(df.return_.values)\n",
    "\n",
    "# def global_training_objective_single(x):\n",
    "#     prior_params = np.r_[x[:5], np.ones(5) * 1e10, x[5:]]\n",
    "#     df = create_training_df(sample_env(), prior_params, n_episode)\n",
    "#     return np.mean(df.return_.values)\n",
    "\n",
    "def make_objective(single, N, parallel=True, **kwargs):\n",
    "    def objective(x):\n",
    "        if parallel:\n",
    "            jobs = (delayed(single)(x, np.random.randint(100000000), **kwargs) for _ in range(N))\n",
    "            returns = Parallel(-1, backend='multiprocessing')(jobs)\n",
    "        else:\n",
    "            returns = [single(x, **kwargs) for _ in range(N)]\n",
    "        y = np.mean(returns)\n",
    "        print(objective.counter, np.round(y, 3), np.round(x,2))\n",
    "        objective.counter += 1\n",
    "        return y\n",
    "    objective.counter = 0\n",
    "    return objective"
   ]
  },
  {
   "cell_type": "code",
   "execution_count": 6,
   "metadata": {},
   "outputs": [
    {
     "name": "stdout",
     "output_type": "stream",
     "text": [
      "0 -0.047 [1. 1. 1. 1. 1.]\n",
      "CPU times: user 205 ms, sys: 51.9 ms, total: 257 ms\n",
      "Wall time: 2min 27s\n"
     ]
    },
    {
     "data": {
      "text/plain": [
       "-0.046780435762877486"
      ]
     },
     "execution_count": 6,
     "metadata": {},
     "output_type": "execute_result"
    }
   ],
   "source": [
    "%time make_objective(training_return, N=100, n_episode=50)(np.ones(5))"
   ]
  },
  {
   "cell_type": "code",
   "execution_count": 13,
   "metadata": {},
   "outputs": [],
   "source": [
    "def train_agent(kind, n_iter=200, n_env=100, n_episode=25, **kwargs):\n",
    "    dimensions = [Real(1, 20), Real(0,1), Real(0,1), Real(0,1), Real(0,2)]\n",
    "    if kind == 'meta':\n",
    "        dimensions.extend([Real(0.1,100)]*5 + [Real(0.1,20)] + [Real(0.1,10)])\n",
    "    print(len(dimensions))\n",
    "        \n",
    "    objective = make_objective(training_return, N=n_env, n_episode=n_episode)\n",
    "    return gp_minimize(lambda x: - objective(x),\n",
    "                       dimensions=dimensions, n_calls=n_iter, **kwargs)"
   ]
  },
  {
   "cell_type": "code",
   "execution_count": 10,
   "metadata": {},
   "outputs": [],
   "source": [
    "# x = global_res.x\n",
    "# dump(global_res.x, 'pickle/global_x')\n",
    "global_x = load('pickle/global_x')"
   ]
  },
  {
   "cell_type": "code",
   "execution_count": 13,
   "metadata": {},
   "outputs": [
    {
     "name": "stdout",
     "output_type": "stream",
     "text": [
      "CPU times: user 2.46 s, sys: 40.6 ms, total: 2.5 s\n",
      "Wall time: 2.54 s\n"
     ]
    },
    {
     "data": {
      "text/plain": [
       "0    -0.487059\n",
       "1     1.332702\n",
       "2     0.627835\n",
       "3    -0.182133\n",
       "4     0.932760\n",
       "5     0.275255\n",
       "6     0.780297\n",
       "7     1.180239\n",
       "8    -0.124686\n",
       "9     1.180239\n",
       "10   -0.277149\n",
       "11    0.085223\n",
       "12    0.322909\n",
       "13   -0.029670\n",
       "14    1.332702\n",
       "15    0.570388\n",
       "16   -0.677091\n",
       "17    0.932760\n",
       "18    1.390149\n",
       "19    0.875314\n",
       "20    0.275255\n",
       "21    1.322909\n",
       "22    1.390149\n",
       "23    0.237686\n",
       "24    1.485165\n",
       "Name: return_, dtype: float64"
      ]
     },
     "execution_count": 13,
     "metadata": {},
     "output_type": "execute_result"
    }
   ],
   "source": [
    "%%time\n",
    "def training_returns(env, prior):\n",
    "    return list(create_training_df(env, prior, 25).return_)\n",
    "\n",
    "env = sample_env()\n",
    "precision = 1e10\n",
    "prior = np.r_[global_x, np.ones(5) * precision, 1, 1]\n"
   ]
  },
  {
   "cell_type": "code",
   "execution_count": 30,
   "metadata": {},
   "outputs": [],
   "source": [
    "env = sample_env()\n",
    "def job(env):\n",
    "    return create_training_df(env, make_prior_params(x), 20).return_\n",
    "\n",
    "res = Parallel(-1)(delayed(job)() for _ in range(48))"
   ]
  },
  {
   "cell_type": "code",
   "execution_count": 46,
   "metadata": {},
   "outputs": [
    {
     "data": {
      "text/plain": [
       "[<matplotlib.lines.Line2D at 0x7fc822951e90>]"
      ]
     },
     "execution_count": 46,
     "metadata": {},
     "output_type": "execute_result"
    },
    {
     "data": {
      "image/png": "[encoded data removed]",
      "text/plain": [
       "<Figure size 432x288 with 1 Axes>"
      ]
     },
     "metadata": {},
     "output_type": "display_data"
    }
   ],
   "source": [
    "plt.plot(np.mean(np.stack(res), 0))"
   ]
  },
  {
   "cell_type": "code",
   "execution_count": null,
   "metadata": {},
   "outputs": [
    {
     "name": "stdout",
     "output_type": "stream",
     "text": [
      "5\n",
      "0 0.41 [12.37  0.02  0.48  0.75  1.39]\n",
      "1 0.031 [16.64  0.1   0.05  0.32  0.91]\n",
      "2 0.163 [5.24 0.06 0.15 0.25 1.2 ]\n",
      "3 0.091 [19.07  0.65  0.38  0.34  1.65]\n",
      "4 0.294 [3.71 0.26 0.85 0.06 1.96]\n",
      "5 0.427 [17.81  0.51  0.76  0.63  0.45]\n",
      "6 0.007 [17.38  0.22  0.71  0.43  0.53]\n",
      "7 0.206 [13.43  0.9   0.27  0.88  0.99]\n",
      "8 0.42 [1.57 0.49 0.48 0.73 1.06]\n",
      "9 0.396 [5.03 0.23 0.29 0.11 0.38]\n",
      "10 0.547 [5.85 0.71 0.21 0.65 2.  ]\n",
      "11 0.285 [20.   0.   0.   0.6  2. ]\n",
      "12 0.233 [17.23  1.    0.12  0.69  1.3 ]\n",
      "13 0.392 [4.06 0.6  0.35 0.65 1.97]\n",
      "14 0.363 [5.29 0.   0.17 0.91 1.92]\n",
      "15 0.485 [3.06 0.34 0.02 0.69 1.98]\n",
      "16 -0.11 [20.    1.    0.06  0.    0.53]\n"
     ]
    }
   ],
   "source": [
    "global_res = train_agent('global', n_iter=100)\n",
    "# meta_res = train_agent('meta', n_iter=100, )"
   ]
  },
  {
   "cell_type": "code",
   "execution_count": null,
   "metadata": {},
   "outputs": [],
   "source": []
  },
  {
   "cell_type": "code",
   "execution_count": 18,
   "metadata": {},
   "outputs": [
    {
     "data": {
      "text/plain": [
       "[5.1900747666740665, 1.0, 0.0, 0.7608941230617052, 1.5964623242530707]"
      ]
     },
     "execution_count": 18,
     "metadata": {},
     "output_type": "execute_result"
    }
   ],
   "source": [
    "global_res.x"
   ]
  },
  {
   "cell_type": "code",
   "execution_count": 21,
   "metadata": {},
   "outputs": [
    {
     "name": "stdout",
     "output_type": "stream",
     "text": [
      "0 0.531 [  3.82   1.     1.     0.54   2.    99.78  64.76 100.    56.91  95.44   8.91   0.1 ]\n",
      "1 0.507 [  1.     0.58   0.98   0.53   0.27  78.82 100.    17.65   5.28  35.37  19.59   1.59]\n",
      "Expected: [  3.82   1.     1.     0.54   2.    99.78  64.76 100.    56.91  95.44   8.91   0.1 ]  ->  0.531  (0.541)\n",
      "Empirical: [  1.     0.58   0.98   0.53   0.27  78.82 100.    17.65   5.28  35.37  19.59   1.59]  ->  0.507  (0.757)\n"
     ]
    }
   ],
   "source": [
    "from skopt import expected_minimum\n",
    "\n",
    "def choose_x(res):\n",
    "    objective = make_objective(training_return, N=1000)\n",
    "    x_exp, f_exp_pred = expected_minimum(res)\n",
    "    f_exp = objective(x_exp)\n",
    "    x_emp, f_emp_pred = res.x, res.fun\n",
    "    f_emp = objective(x_emp)\n",
    "    print(f'Expected: {np.round(x_exp, 2)}  ->  {f_exp:.3f}  ({-f_exp_pred:.3f})')\n",
    "    print(f'Empirical: {np.round(x_emp, 2)}  ->  {f_emp:.3f}  ({-f_emp_pred:.3f})')\n",
    "    return x_exp if f_exp > f_emp else x_emp\n",
    "    \n",
    "x_meta = choose_x(meta_res)"
   ]
  },
  {
   "cell_type": "code",
   "execution_count": 53,
   "metadata": {
    "collapsed": true
   },
   "outputs": [
    {
     "name": "stderr",
     "output_type": "stream",
     "text": [
      "/usr/people/flc2/miniconda3/lib/python3.7/site-packages/joblib/externals/loky/process_executor.py:683: UserWarning: A worker stopped while some jobs were given to the executor. This can be caused by a too short worker timeout or by a memory leak.\n",
      "  \"timeout or by a memory leak.\", UserWarning\n",
      "/usr/people/flc2/miniconda3/lib/python3.7/site-packages/joblib/externals/loky/process_executor.py:683: UserWarning: A worker stopped while some jobs were given to the executor. This can be caused by a too short worker timeout or by a memory leak.\n",
      "  \"timeout or by a memory leak.\", UserWarning\n",
      "/usr/people/flc2/miniconda3/lib/python3.7/site-packages/joblib/externals/loky/process_executor.py:683: UserWarning: A worker stopped while some jobs were given to the executor. This can be caused by a too short worker timeout or by a memory leak.\n",
      "  \"timeout or by a memory leak.\", UserWarning\n"
     ]
    },
    {
     "name": "stdout",
     "output_type": "stream",
     "text": [
      "0 0.55 [4.51e+00 1.00e+00 6.10e-01 5.00e-01 2.00e+00 1.00e+10 1.00e+10 1.00e+10 1.00e+10 1.00e+10 1.00e+00 1.00e+00]\n",
      "Expected: -0.549\n",
      "Empirical: 0.550\n"
     ]
    },
    {
     "name": "stderr",
     "output_type": "stream",
     "text": [
      "/usr/people/flc2/miniconda3/lib/python3.7/site-packages/joblib/externals/loky/process_executor.py:683: UserWarning: A worker stopped while some jobs were given to the executor. This can be caused by a too short worker timeout or by a memory leak.\n",
      "  \"timeout or by a memory leak.\", UserWarning\n",
      "/usr/people/flc2/miniconda3/lib/python3.7/site-packages/joblib/externals/loky/process_executor.py:683: UserWarning: A worker stopped while some jobs were given to the executor. This can be caused by a too short worker timeout or by a memory leak.\n",
      "  \"timeout or by a memory leak.\", UserWarning\n",
      "/usr/people/flc2/miniconda3/lib/python3.7/site-packages/joblib/externals/loky/process_executor.py:683: UserWarning: A worker stopped while some jobs were given to the executor. This can be caused by a too short worker timeout or by a memory leak.\n",
      "  \"timeout or by a memory leak.\", UserWarning\n",
      "/usr/people/flc2/miniconda3/lib/python3.7/site-packages/joblib/externals/loky/process_executor.py:683: UserWarning: A worker stopped while some jobs were given to the executor. This can be caused by a too short worker timeout or by a memory leak.\n",
      "  \"timeout or by a memory leak.\", UserWarning\n",
      "/usr/people/flc2/miniconda3/lib/python3.7/site-packages/joblib/externals/loky/process_executor.py:683: UserWarning: A worker stopped while some jobs were given to the executor. This can be caused by a too short worker timeout or by a memory leak.\n",
      "  \"timeout or by a memory leak.\", UserWarning\n",
      "/usr/people/flc2/miniconda3/lib/python3.7/site-packages/joblib/externals/loky/process_executor.py:683: UserWarning: A worker stopped while some jobs were given to the executor. This can be caused by a too short worker timeout or by a memory leak.\n",
      "  \"timeout or by a memory leak.\", UserWarning\n",
      "/usr/people/flc2/miniconda3/lib/python3.7/site-packages/joblib/externals/loky/process_executor.py:683: UserWarning: A worker stopped while some jobs were given to the executor. This can be caused by a too short worker timeout or by a memory leak.\n",
      "  \"timeout or by a memory leak.\", UserWarning\n",
      "/usr/people/flc2/miniconda3/lib/python3.7/site-packages/joblib/externals/loky/process_executor.py:683: UserWarning: A worker stopped while some jobs were given to the executor. This can be caused by a too short worker timeout or by a memory leak.\n",
      "  \"timeout or by a memory leak.\", UserWarning\n",
      "/usr/people/flc2/miniconda3/lib/python3.7/site-packages/joblib/externals/loky/process_executor.py:683: UserWarning: A worker stopped while some jobs were given to the executor. This can be caused by a too short worker timeout or by a memory leak.\n",
      "  \"timeout or by a memory leak.\", UserWarning\n",
      "/usr/people/flc2/miniconda3/lib/python3.7/site-packages/joblib/externals/loky/process_executor.py:683: UserWarning: A worker stopped while some jobs were given to the executor. This can be caused by a too short worker timeout or by a memory leak.\n",
      "  \"timeout or by a memory leak.\", UserWarning\n",
      "/usr/people/flc2/miniconda3/lib/python3.7/site-packages/joblib/externals/loky/process_executor.py:683: UserWarning: A worker stopped while some jobs were given to the executor. This can be caused by a too short worker timeout or by a memory leak.\n",
      "  \"timeout or by a memory leak.\", UserWarning\n",
      "/usr/people/flc2/miniconda3/lib/python3.7/site-packages/joblib/externals/loky/process_executor.py:683: UserWarning: A worker stopped while some jobs were given to the executor. This can be caused by a too short worker timeout or by a memory leak.\n",
      "  \"timeout or by a memory leak.\", UserWarning\n",
      "/usr/people/flc2/miniconda3/lib/python3.7/site-packages/joblib/externals/loky/process_executor.py:683: UserWarning: A worker stopped while some jobs were given to the executor. This can be caused by a too short worker timeout or by a memory leak.\n",
      "  \"timeout or by a memory leak.\", UserWarning\n",
      "/usr/people/flc2/miniconda3/lib/python3.7/site-packages/joblib/externals/loky/process_executor.py:683: UserWarning: A worker stopped while some jobs were given to the executor. This can be caused by a too short worker timeout or by a memory leak.\n",
      "  \"timeout or by a memory leak.\", UserWarning\n",
      "/usr/people/flc2/miniconda3/lib/python3.7/site-packages/joblib/externals/loky/process_executor.py:683: UserWarning: A worker stopped while some jobs were given to the executor. This can be caused by a too short worker timeout or by a memory leak.\n",
      "  \"timeout or by a memory leak.\", UserWarning\n",
      "/usr/people/flc2/miniconda3/lib/python3.7/site-packages/joblib/externals/loky/process_executor.py:683: UserWarning: A worker stopped while some jobs were given to the executor. This can be caused by a too short worker timeout or by a memory leak.\n",
      "  \"timeout or by a memory leak.\", UserWarning\n",
      "/usr/people/flc2/miniconda3/lib/python3.7/site-packages/joblib/externals/loky/process_executor.py:683: UserWarning: A worker stopped while some jobs were given to the executor. This can be caused by a too short worker timeout or by a memory leak.\n",
      "  \"timeout or by a memory leak.\", UserWarning\n",
      "/usr/people/flc2/miniconda3/lib/python3.7/site-packages/joblib/externals/loky/process_executor.py:683: UserWarning: A worker stopped while some jobs were given to the executor. This can be caused by a too short worker timeout or by a memory leak.\n",
      "  \"timeout or by a memory leak.\", UserWarning\n",
      "/usr/people/flc2/miniconda3/lib/python3.7/site-packages/joblib/externals/loky/process_executor.py:683: UserWarning: A worker stopped while some jobs were given to the executor. This can be caused by a too short worker timeout or by a memory leak.\n",
      "  \"timeout or by a memory leak.\", UserWarning\n",
      "/usr/people/flc2/miniconda3/lib/python3.7/site-packages/joblib/externals/loky/process_executor.py:683: UserWarning: A worker stopped while some jobs were given to the executor. This can be caused by a too short worker timeout or by a memory leak.\n",
      "  \"timeout or by a memory leak.\", UserWarning\n",
      "/usr/people/flc2/miniconda3/lib/python3.7/site-packages/joblib/externals/loky/process_executor.py:683: UserWarning: A worker stopped while some jobs were given to the executor. This can be caused by a too short worker timeout or by a memory leak.\n",
      "  \"timeout or by a memory leak.\", UserWarning\n",
      "/usr/people/flc2/miniconda3/lib/python3.7/site-packages/joblib/externals/loky/process_executor.py:683: UserWarning: A worker stopped while some jobs were given to the executor. This can be caused by a too short worker timeout or by a memory leak.\n",
      "  \"timeout or by a memory leak.\", UserWarning\n"
     ]
    },
    {
     "name": "stdout",
     "output_type": "stream",
     "text": [
      "0 0.508 [  4.51   1.     0.61   0.5    2.   100.   100.   100.   100.   100.     1.     1.  ]\n",
      "100: 0.5079569035419126\n"
     ]
    }
   ],
   "source": [
    "# from skopt import expected_minimum\n",
    "# x_global, f_global = expected_minimum(global_res)\n",
    "# print(np.round(x_global, 3))\n",
    "\n",
    "# prm = make_prior_params(x_global)\n",
    "# f_emp = make_objective(training_return, N=1000)(prm)\n",
    "# print(f'Expected: {-f_global:.3f}')\n",
    "# print(f'Empirical: {f_emp:.3f}')\n",
    "\n",
    "# prm_100 = make_prior_params(x_global)\n",
    "# prm_100[5:10] = 100\n",
    "# f_100 = make_objective(training_return, N=1000)(prm_100)\n",
    "\n",
    "# print(f'100: {f_100}')\n",
    "\n",
    "# meta_res = train_agent('meta', n_iter=200, x0=[prm_100.tolist()], y0=[f_100])"
   ]
  },
  {
   "cell_type": "code",
   "execution_count": 53,
   "metadata": {},
   "outputs": [],
   "source": []
  },
  {
   "cell_type": "code",
   "execution_count": 54,
   "metadata": {},
   "outputs": [
    {
     "name": "stdout",
     "output_type": "stream",
     "text": [
      "CPU times: user 2.18 s, sys: 200 ms, total: 2.38 s\n",
      "Wall time: 9.7 s\n"
     ]
    }
   ],
   "source": [
    "from tqdm import tqdm\n",
    "\n",
    "def train(env, prior_params, n_episode, seed):\n",
    "    np.random.seed(seed)\n",
    "    random.seed(seed)\n",
    "    df = create_training_df(env, prior_params, n_episode)\n",
    "    return df.return_\n",
    "\n",
    "\n",
    "def train_many(envs, x, n_episode=20):\n",
    "    prior_params = make_prior_params(x)\n",
    "    jobs = (delayed(train)(env, prior_params, n_episode, np.random.randint(10000000)) for env in envs)\n",
    "    return Parallel(-1)((jobs))\n",
    "\n",
    "x_baseline = list(np.r_[np.zeros(5), np.ones(5)*.01, 1,.1])\n",
    "num_replications = 1000\n",
    "envs = [sample_env() for _ in range(num_replications)]\n",
    "# %time global_returns = train_many(envs, x_global)\n",
    "%time meta_returns = train_many(envs, x_meta)\n",
    "%time baseline_returns = train_many(envs, x_baseline)"
   ]
  },
  {
   "cell_type": "code",
   "execution_count": 58,
   "metadata": {},
   "outputs": [
    {
     "data": {
      "text/plain": [
       "Text(0,0.5,'Return')"
      ]
     },
     "execution_count": 58,
     "metadata": {},
     "output_type": "execute_result"
    },
    {
     "data": {
      "image/png": "[encoded data removed]",
      "text/plain": [
       "<Figure size 432x288 with 1 Axes>"
      ]
     },
     "metadata": {},
     "output_type": "display_data"
    }
   ],
   "source": [
    "def plot_returns(X, **kwargs):\n",
    "    plt.errorbar(x=np.arange(X.shape[1]),y=np.mean(X,axis=0),\n",
    "             yerr=np.std(X,axis=0)/np.sqrt(X.shape[0]), **kwargs)\n",
    "    \n",
    "# plot_returns(np.stack(global_returns), label='Global')\n",
    "plot_returns(np.stack(baseline_returns), label='Baseline')\n",
    "plot_returns(np.stack(meta_returns), label='Meta')\n",
    "plt.xlabel(\"Episode\")\n",
    "plt.ylabel(\"Return\")"
   ]
  },
  {
   "cell_type": "code",
   "execution_count": 98,
   "metadata": {},
   "outputs": [
    {
     "name": "stderr",
     "output_type": "stream",
     "text": [
      "/usr/people/flc2/miniconda3/lib/python3.7/site-packages/scipy/stats/stats.py:1713: FutureWarning: Using a non-tuple sequence for multidimensional indexing is deprecated; use `arr[tuple(seq)]` instead of `arr[seq]`. In the future this will be interpreted as an array index, `arr[np.array(seq)]`, which will result either in an error or a different result.\n",
      "  return np.add.reduce(sorted[indexer] * weights, axis=axis) / sumval\n"
     ]
    },
    {
     "data": {
      "image/png": "[encoded data removed]",
      "text/plain": [
       "<Figure size 432x288 with 1 Axes>"
      ]
     },
     "metadata": {},
     "output_type": "display_data"
    }
   ],
   "source": [
    "\n",
    "m = pd.melt(pd.DataFrame(np.stack(meta_returns)), var_name='Episode', value_name='Return')\n",
    "sns.lineplot(m.Episode, m.Return)\n",
    "\n",
    "n = pd.melt(pd.DataFrame(np.stack(baseline_returns)), var_name='Episode', value_name='Return')\n",
    "sns.lineplot(n.Episode, n.Return, color=(0.6, 0.6, 0.6))\n",
    "\n",
    "\n",
    "plt.legend(['Metalearned Prior', 'Uninformative Prior'], loc='lower right')\n",
    "plt.savefig('figs/results.pdf',  pad_inches=0.1, bbox_inches='tight')"
   ]
  },
  {
   "cell_type": "code",
   "execution_count": 137,
   "metadata": {},
   "outputs": [
    {
     "ename": "AttributeError",
     "evalue": "'list' object has no attribute 'shape'",
     "output_type": "error",
     "traceback": [
      "\u001b[0;31m---------------------------------------------------------------------------\u001b[0m",
      "\u001b[0;31mAttributeError\u001b[0m                            Traceback (most recent call last)",
      "\u001b[0;32m<ipython-input-137-0ae08d3b28c4>\u001b[0m in \u001b[0;36m<module>\u001b[0;34m()\u001b[0m\n\u001b[0;32m----> 1\u001b[0;31m plt.errorbar(x=np.arange(global_returns.shape[1]),y=np.mean(global_returns,axis=0),\n\u001b[0m\u001b[1;32m      2\u001b[0m              yerr=np.std(global_returns,axis=0)/np.sqrt(global_returns.shape[0]),label='mean return of learned policy')\n\u001b[1;32m      3\u001b[0m plt.errorbar(x=np.arange(meta_returns.shape[1]),y=np.mean(meta_returns,axis=0),\n\u001b[1;32m      4\u001b[0m              yerr=np.std(meta_returns,axis=0)/np.sqrt(meta_returns.shape[0]),label='mean return of meta-learned policy')\n\u001b[1;32m      5\u001b[0m \u001b[0;31m#plt.errorbar(np.mean(returns_meta,axis=0),'.-',label='mean return of meta-learned policy')\u001b[0m\u001b[0;34m\u001b[0m\u001b[0;34m\u001b[0m\u001b[0;34m\u001b[0m\u001b[0m\n",
      "\u001b[0;31mAttributeError\u001b[0m: 'list' object has no attribute 'shape'"
     ]
    }
   ],
   "source": [
    "plt.errorbar(x=np.arange(global_returns.shape[1]),y=np.mean(global_returns,axis=0),\n",
    "             yerr=np.std(global_returns,axis=0)/np.sqrt(global_returns.shape[0]),label='mean return of learned policy')\n",
    "plt.errorbar(x=np.arange(meta_returns.shape[1]),y=np.mean(meta_returns,axis=0),\n",
    "             yerr=np.std(meta_returns,axis=0)/np.sqrt(meta_returns.shape[0]),label='mean return of meta-learned policy')\n",
    "#plt.errorbar(np.mean(returns_meta,axis=0),'.-',label='mean return of meta-learned policy')\n",
    "#plt.plot(pd.DataFrame(np.mean(returns,axis=0)).rolling(10).mean(),'.-',label='mean return of learned policy')\n",
    "#plt.axhline(np.mean(optimal_return),color='black',linestyle='dashed',label='return of optimal policy')\n",
    "plt.legend(frameon=False)\n",
    "\n",
    "plt.show()\n",
    "\n",
    "#plt.show()\n",
    "#df.n_steps.rolling(1).mean().plot()\n",
    "#plt.show()"
   ]
  },
  {
   "cell_type": "code",
   "execution_count": 145,
   "metadata": {},
   "outputs": [],
   "source": [
    "np.savetxt('returns_notmeta.txt',returns)\n",
    "np.savetxt('returns_meta.txt',returns_meta)"
   ]
  },
  {
   "cell_type": "code",
   "execution_count": 149,
   "metadata": {},
   "outputs": [
    {
     "data": {
      "text/plain": [
       "[<matplotlib.lines.Line2D at 0x1608d036c18>]"
      ]
     },
     "execution_count": 149,
     "metadata": {},
     "output_type": "execute_result"
    },
    {
     "data": {
      "image/png": "[encoded data removed]",
      "text/plain": [
       "<Figure size 432x288 with 1 Axes>"
      ]
     },
     "metadata": {
      "needs_background": "light"
     },
     "output_type": "display_data"
    }
   ],
   "source": [
    "x = np.loadtxt('returns_notmeta.txt')\n",
    "y = np.loadtxt('returns_meta.txt')\n",
    "plt.plot(np.mean(x,axis=0))\n",
    "plt.plot(np.mean(y,axis=0))"
   ]
  },
  {
   "cell_type": "code",
   "execution_count": null,
   "metadata": {},
   "outputs": [],
   "source": []
  }
 ],
 "metadata": {
  "@webio": {
   "lastCommId": null,
   "lastKernelId": null
  },
  "anaconda-cloud": {},
  "kernelspec": {
   "display_name": "Python 3",
   "language": "python",
   "name": "python3"
  },
  "language_info": {
   "codemirror_mode": {
    "name": "ipython",
    "version": 3
   },
   "file_extension": ".py",
   "mimetype": "text/x-python",
   "name": "python",
   "nbconvert_exporter": "python",
   "pygments_lexer": "ipython3",
   "version": "3.7.3"
  },
  "nav_menu": {},
  "toc": {
   "navigate_menu": true,
   "number_sections": true,
   "sideBar": true,
   "threshold": 6,
   "toc_cell": false,
   "toc_section_display": "block",
   "toc_window_display": false
  },
  "varInspector": {
   "cols": {
    "lenName": 16,
    "lenType": 16,
    "lenVar": 40
   },
   "kernels_config": {
    "python": {
     "delete_cmd_postfix": "",
     "delete_cmd_prefix": "del ",
     "library": "var_list.py",
     "varRefreshCmd": "print(var_dic_list())"
    },
    "r": {
     "delete_cmd_postfix": ") ",
     "delete_cmd_prefix": "rm(",
     "library": "var_list.r",
     "varRefreshCmd": "cat(var_dic_list()) "
    }
   },
   "types_to_exclude": [
    "module",
    "function",
    "builtin_function_or_method",
    "instance",
    "_Feature"
   ],
   "window_display": false
  }
 },
 "nbformat": 4,
 "nbformat_minor": 1
}
